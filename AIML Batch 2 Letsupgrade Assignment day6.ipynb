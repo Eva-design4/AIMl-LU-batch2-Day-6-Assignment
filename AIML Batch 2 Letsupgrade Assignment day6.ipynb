{
 "cells": [
  {
   "cell_type": "markdown",
   "metadata": {},
   "source": [
    "# Question 1"
   ]
  },
  {
   "cell_type": "raw",
   "metadata": {},
   "source": [
    "\n",
    "Assuming that we have some email addresses in the \"username@companyname.com\" format, please\n",
    "write a program to print the company name of a given email address. Both user names and company\n",
    "names are composed of letters only.\n",
    "Input Format:\n",
    "The first line of the input contains an email address.\n",
    "Output Format:\n",
    "Print the company name in a single line.\n",
    "Example;\n",
    "Input:\n",
    "john@google.com\n",
    "Output:\n",
    "google."
   ]
  },
  {
   "cell_type": "code",
   "execution_count": 1,
   "metadata": {},
   "outputs": [
    {
     "name": "stdout",
     "output_type": "stream",
     "text": [
      "pricewatercoopers\n"
     ]
    }
   ],
   "source": [
    "email_id= \"info@pricewatercoopers.org\"\n",
    "name = email_id.split('@')[1].split('.')[0] \n",
    "print(name)"
   ]
  },
  {
   "cell_type": "markdown",
   "metadata": {},
   "source": [
    "# Question 2"
   ]
  },
  {
   "cell_type": "raw",
   "metadata": {},
   "source": [
    "Write a program that accepts a comma-separated sequence of words as input and prints the words in a\n",
    "comma-separated sequence after sorting them alphabetically.\n",
    "Input Format:\n",
    "The first line of input contains words separated by the comma.\n",
    "Output Format:\n",
    "Print the sorted words separated by the comma.\n",
    "Example:\n",
    "Input:\n",
    "without,hello,bag,world\n",
    "Output:\n",
    "bag,hello,without,world"
   ]
  },
  {
   "cell_type": "code",
   "execution_count": 1,
   "metadata": {},
   "outputs": [
    {
     "name": "stdout",
     "output_type": "stream",
     "text": [
      "['cube', 'rectangle', 'square', 'triangle']\n"
     ]
    }
   ],
   "source": [
    "a =(\"square\",\"cube\",\"triangle\",\"rectangle\")\n",
    "x = sorted(a)\n",
    "print (x)"
   ]
  },
  {
   "cell_type": "markdown",
   "metadata": {},
   "source": [
    "# Question 3"
   ]
  },
  {
   "cell_type": "markdown",
   "metadata": {},
   "source": [
    "Create your own Jupyter Notebook for Sets. Reference link:\n",
    "https://www.w3schools.com/python/python_sets.asp"
   ]
  },
  {
   "cell_type": "markdown",
   "metadata": {},
   "source": [
    "# Sets"
   ]
  },
  {
   "cell_type": "markdown",
   "metadata": {},
   "source": [
    "\n",
    " Its a collection of unorderd and unindexed data type.\n",
    " It is written in curly brackets.\n",
    " \n",
    "it is not possible to access items in a set by reffering to an index or key.\n",
    "but you can do that by using in keyword."
   ]
  },
  {
   "cell_type": "code",
   "execution_count": 21,
   "metadata": {},
   "outputs": [
    {
     "name": "stdout",
     "output_type": "stream",
     "text": [
      "{'samosa', 'cakes', 'Mandazi'}\n"
     ]
    }
   ],
   "source": [
    "st = {\"Mandazi\",\"samosa\",\"cakes\"}\n",
    "print(st)"
   ]
  },
  {
   "cell_type": "code",
   "execution_count": 22,
   "metadata": {},
   "outputs": [
    {
     "name": "stdout",
     "output_type": "stream",
     "text": [
      "True\n"
     ]
    }
   ],
   "source": [
    "#check id cakes is present in the set\n",
    "st = {\"Mandazi\",\"samosa\",\"cakes\"}\n",
    "print(\"cakes\" in st)"
   ]
  },
  {
   "cell_type": "code",
   "execution_count": 26,
   "metadata": {},
   "outputs": [
    {
     "name": "stdout",
     "output_type": "stream",
     "text": [
      "{'bread', 'samosa', 'cakes', 'Mandazi'}\n"
     ]
    }
   ],
   "source": [
    "#  we use add() method to add an item to a set.\n",
    "st = {\"Mandazi\",\"samosa\",\"cakes\"}\n",
    "st.add (\"bread\")\n",
    "print(st)\n"
   ]
  },
  {
   "cell_type": "code",
   "execution_count": 29,
   "metadata": {},
   "outputs": [
    {
     "name": "stdout",
     "output_type": "stream",
     "text": [
      "{'pie', 'cakes', 'samosa', 'bread', 'buns', 'Mandazi'}\n"
     ]
    }
   ],
   "source": [
    "#in order to add multiple items in a set we use update(method)\n",
    "st = {\"Mandazi\",\"samosa\",\"cakes\"}\n",
    "st.update([\"bread\",\"pie\",\"buns\"])\n",
    "print(st)"
   ]
  },
  {
   "cell_type": "code",
   "execution_count": 31,
   "metadata": {},
   "outputs": [
    {
     "name": "stdout",
     "output_type": "stream",
     "text": [
      "3\n"
     ]
    }
   ],
   "source": [
    "# To get the length of items in a set we use le()method\n",
    "\n",
    "st = {\"Mandazi\",\"samosa\",\"cakes\"}\n",
    "print(len(st))"
   ]
  },
  {
   "cell_type": "code",
   "execution_count": 33,
   "metadata": {},
   "outputs": [
    {
     "name": "stdout",
     "output_type": "stream",
     "text": [
      "{'Mandazi'}\n"
     ]
    }
   ],
   "source": [
    "# Use remove(),or discard()method to remove items from aset.\n",
    "st = {\"Mandazi\",\"samosa\",\"cakes\"}\n",
    "st.remove(\"samosa\")\n",
    "st.discard(\"cakes\")\n",
    "print(st)"
   ]
  },
  {
   "cell_type": "markdown",
   "metadata": {},
   "source": [
    "# NOTE\n",
    "In set when we use remove() method and the item doesn't exist it will raise error .\n",
    "But when we use discard method even if the item doesn't exist it will not raise error."
   ]
  },
  {
   "cell_type": "code",
   "execution_count": 39,
   "metadata": {},
   "outputs": [
    {
     "name": "stdout",
     "output_type": "stream",
     "text": [
      "samosa\n",
      "{'cakes', 'Mandazi'}\n"
     ]
    }
   ],
   "source": [
    "# pop()method removes the last item in a set.\n",
    "st = {\"Mandazi\",\"samosa\",\"cakes\"}\n",
    "y = st.pop()\n",
    "print(y)\n",
    "print(st)\n"
   ]
  },
  {
   "cell_type": "code",
   "execution_count": 40,
   "metadata": {},
   "outputs": [
    {
     "name": "stdout",
     "output_type": "stream",
     "text": [
      "set()\n"
     ]
    }
   ],
   "source": [
    "# clear() method empties the set\n",
    "st = {\"Mandazi\",\"samosa\",\"cakes\"}\n",
    "st.clear()\n",
    "print(st)"
   ]
  },
  {
   "cell_type": "code",
   "execution_count": 41,
   "metadata": {},
   "outputs": [
    {
     "ename": "NameError",
     "evalue": "name 'st' is not defined",
     "output_type": "error",
     "traceback": [
      "\u001b[1;31m---------------------------------------------------------------------------\u001b[0m",
      "\u001b[1;31mNameError\u001b[0m                                 Traceback (most recent call last)",
      "\u001b[1;32m<ipython-input-41-6dc2e3438fb7>\u001b[0m in \u001b[0;36m<module>\u001b[1;34m\u001b[0m\n\u001b[0;32m      2\u001b[0m \u001b[0mst\u001b[0m \u001b[1;33m=\u001b[0m \u001b[1;33m{\u001b[0m\u001b[1;34m\"Mandazi\"\u001b[0m\u001b[1;33m,\u001b[0m\u001b[1;34m\"samosa\"\u001b[0m\u001b[1;33m,\u001b[0m\u001b[1;34m\"cakes\"\u001b[0m\u001b[1;33m}\u001b[0m\u001b[1;33m\u001b[0m\u001b[1;33m\u001b[0m\u001b[0m\n\u001b[0;32m      3\u001b[0m \u001b[1;32mdel\u001b[0m \u001b[0mst\u001b[0m\u001b[1;33m\u001b[0m\u001b[1;33m\u001b[0m\u001b[0m\n\u001b[1;32m----> 4\u001b[1;33m \u001b[0mprint\u001b[0m\u001b[1;33m(\u001b[0m\u001b[0mst\u001b[0m\u001b[1;33m)\u001b[0m\u001b[1;33m\u001b[0m\u001b[1;33m\u001b[0m\u001b[0m\n\u001b[0m",
      "\u001b[1;31mNameError\u001b[0m: name 'st' is not defined"
     ]
    }
   ],
   "source": [
    "# del keyword will delete the set completely\n",
    "st = {\"Mandazi\",\"samosa\",\"cakes\"}\n",
    "del st\n",
    "print(st) # it raises error because the set nolonger exist"
   ]
  },
  {
   "cell_type": "code",
   "execution_count": 42,
   "metadata": {},
   "outputs": [
    {
     "name": "stdout",
     "output_type": "stream",
     "text": [
      "{2, 'samosa', 4, 5, 'cakes', 6, 'Mandazi'}\n"
     ]
    }
   ],
   "source": [
    "# To we join two or more sets by use of union ()method ,\n",
    "# or update() method to inserts all items \n",
    "#from one item to another'\n",
    "st1 = {\"Mandazi\",\"samosa\",\"cakes\"}\n",
    "st2 = {2,4,5,6}\n",
    "st3 = st1.union(st2)\n",
    "print(st3)\n"
   ]
  },
  {
   "cell_type": "code",
   "execution_count": 43,
   "metadata": {},
   "outputs": [
    {
     "name": "stdout",
     "output_type": "stream",
     "text": [
      "{2, 'samosa', 4, 5, 'cakes', 6, 'Mandazi'}\n"
     ]
    }
   ],
   "source": [
    "st1 = {\"Mandazi\",\"samosa\",\"cakes\"}\n",
    "st2 = {2,4,5,6}\n",
    "st1.update(st2)\n",
    "print(st1)"
   ]
  },
  {
   "cell_type": "code",
   "execution_count": 44,
   "metadata": {},
   "outputs": [
    {
     "name": "stdout",
     "output_type": "stream",
     "text": [
      "{'samosa', 'cakes', 'Mandazi'}\n"
     ]
    }
   ],
   "source": [
    "#We can also use the set()constructor to make a set.\n",
    "#There is use of double round brackets.\n",
    "st1 =set((\"Mandazi\",\"samosa\",\"cakes\"))\n",
    "print(st1)\n"
   ]
  },
  {
   "cell_type": "markdown",
   "metadata": {},
   "source": [
    "# other set methods includes :"
   ]
  },
  {
   "cell_type": "code",
   "execution_count": null,
   "metadata": {},
   "outputs": [],
   "source": [
    "copy()# to copy itemsto the set\n",
    "difference() # To return a set containing the difference between two or more sets\n",
    "issubset()# Returns whether another set contains this set or not.\n",
    "issuperset()# Returns whether this set contains another set or not\n"
   ]
  },
  {
   "cell_type": "code",
   "execution_count": null,
   "metadata": {},
   "outputs": [],
   "source": []
  },
  {
   "cell_type": "markdown",
   "metadata": {},
   "source": [
    "# Question 4"
   ]
  },
  {
   "cell_type": "raw",
   "metadata": {},
   "source": [
    "Given a list of n-1 numbers ranging from 1 to n, your task is to find the missing number. There are no\n",
    "duplicates.\n",
    " Input Format:\n",
    "The first line contains n-1 numbers with each number separated by a space.\n",
    " Output Format:\n",
    "Print the missing number\n",
    " Example:\n",
    "Input:\n",
    "1 2 4 6 3 7 8\n",
    " Output:\n",
    "5\n",
    " Explanation:\n",
    "In the above list of numbers 5 is missing and hence 5 is the input"
   ]
  },
  {
   "cell_type": "code",
   "execution_count": 9,
   "metadata": {},
   "outputs": [
    {
     "name": "stdout",
     "output_type": "stream",
     "text": [
      "[1, 2, 3, 4, 5, 6, 7, 8, 9, 10]\n"
     ]
    }
   ],
   "source": [
    "n= 10\n",
    "x = [ i for i in range(1,n+1)]\n",
    "print (x)"
   ]
  },
  {
   "cell_type": "markdown",
   "metadata": {},
   "source": [
    "# Question 5"
   ]
  },
  {
   "cell_type": "raw",
   "metadata": {},
   "source": [
    " With a given list L, write a program to print this list L after removing all duplicate values with original order\n",
    "reserved.\n",
    "Example:\n",
    "If the input list is\n",
    "12 24 35 24 88 120 155 88 120 155\n",
    "Then the output should be\n",
    "12 24 35 88 120 155\n",
    "Explanation:\n",
    "Third, the seventh and ninth element of the list L has been removed because it was already present.\n",
    "Input Format:\n",
    "In one line take the elements of the list L with each element separated by a space.\n",
    "Output Format:\n",
    "Print the elements of the modified list in one line with each element separated by a space.\n",
    "Example:\n",
    "Input:\n",
    "12 24 35 24\n",
    "Output:\n",
    "12 24 "
   ]
  },
  {
   "cell_type": "code",
   "execution_count": 27,
   "metadata": {
    "scrolled": true
   },
   "outputs": [
    {
     "name": "stdout",
     "output_type": "stream",
     "text": [
      "[1, 2, 3, 4, 5, 6, 9] "
     ]
    }
   ],
   "source": [
    "l1 = [1,2,3,4,2,5,6,4,6,9,]\n",
    "l2 = []\n",
    "[l2.append(num) for num in l1 if num not in l2]\n",
    "        \n",
    "print(l2, end=' ')\n",
    "    "
   ]
  },
  {
   "cell_type": "code",
   "execution_count": null,
   "metadata": {},
   "outputs": [],
   "source": []
  },
  {
   "cell_type": "code",
   "execution_count": null,
   "metadata": {},
   "outputs": [],
   "source": []
  }
 ],
 "metadata": {
  "kernelspec": {
   "display_name": "Python 3",
   "language": "python",
   "name": "python3"
  },
  "language_info": {
   "codemirror_mode": {
    "name": "ipython",
    "version": 3
   },
   "file_extension": ".py",
   "mimetype": "text/x-python",
   "name": "python",
   "nbconvert_exporter": "python",
   "pygments_lexer": "ipython3",
   "version": "3.7.6"
  }
 },
 "nbformat": 4,
 "nbformat_minor": 4
}
